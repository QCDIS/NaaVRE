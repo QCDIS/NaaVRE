import rpy2.robjects as ro

# Load the R script
with open('raw-r.r') as f:
    script = f.read()

# Evaluate the script in the R environment
ro.r(script)

# Get a list of all the variables
vars = ro.r("ls()")

# Convert the R vector to a Python list
vars = list(vars)

print(vars)
# Output: ['x', 'y', 'z']



txt = '''
    # My file
library(readr)
library(dplyr)
library(ggplot2)
library(forcats)

# import dataframe
param_c = 12
df <- read_csv(param_sheet_url)

# manipulate data
plot_data <- df %>%
  group_by(state) %>%
  count()

# save manipulated data to output folder
write_csv(plot_data, "plot_data.csv")

# create plot based on manipulated data
plot <- plot_data %>% 
  ggplot()+
  geom_col(aes(fct_reorder(state, n), 
               n, 
               fill = n))+
  coord_flip()+
  labs(
    title = "Number of people by state",
    subtitle = "From US-500 dataset",
    x = "State",
    y = "Number of people"
  )+ 
  theme_bw()
ggsave("myplot.png", width = param_width, height = 8, dpi = 100)
'''
import re
lines = txt.splitlines()
for line in lines:
    print(line)
    
    pattern = r"^(param_[a-zA-Z0-9_]=.*)$"
    matches = re.findall(pattern, line)
    
    print(matches)


get_ipython().getoutput("pip install rpy2")
