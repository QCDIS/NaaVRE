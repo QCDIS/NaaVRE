sourcex = '''
    library(readr)
library(dplyr)
library(ggplot2)
library(forcats)

df <- read_csv(param_sheet_url)

plot_data <- df %>%
  group_by(state) %>%
  count()

write_csv(plot_data, "plot_data.csv")

plot <- plot_data %>% 
  ggplot()+
  geom_col(aes(fct_reorder(state, n), 
               n, 
               fill = n))+
  coord_flip()+
  labs(
    title = "Number of people by state",
    subtitle = "From US-500 dataset",
    x = "State",
    y = "Number of people"
  )+ 
  theme_bw()
ggsave("myplot.png", width = param_width, height = 8, dpi = 100)
'''

info = {'param_width': 'int', 'param_sheet': 'str'}

for key, value in info.items():
    sourcex = sourcex.replace(key, "opt$" + key)
    
print(sourcex)



