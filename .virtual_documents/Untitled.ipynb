import json
import re


x = param_x
y = "hello, world!"
mn = x + len(y)


mn
