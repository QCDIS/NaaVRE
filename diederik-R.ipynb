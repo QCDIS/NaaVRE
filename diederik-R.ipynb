{
 "cells": [
  {
   "cell_type": "code",
   "execution_count": 6,
   "id": "ef10fab1-caf0-49e9-a82a-c557d8c53fcc",
   "metadata": {},
   "outputs": [],
   "source": [
    "library(rlang)\n",
    "library(lobstr)"
   ]
  },
  {
   "cell_type": "code",
   "execution_count": 7,
   "id": "2ba0f9b3-3aaa-48a1-931f-2fbbac2f43d1",
   "metadata": {},
   "outputs": [
    {
     "data": {
      "text/html": [
       "40"
      ],
      "text/latex": [
       "40"
      ],
      "text/markdown": [
       "40"
      ],
      "text/plain": [
       "[1] 40"
      ]
     },
     "metadata": {},
     "output_type": "display_data"
    }
   ],
   "source": [
    "# Define an expression and calculate the result\n",
    "z <- rlang::expr(y <- x * 10)\n",
    "x <- 4\n",
    "eval(z)\n",
    "y"
   ]
  },
  {
   "cell_type": "code",
   "execution_count": 8,
   "id": "8bf84681-06a1-423b-a675-29c15b1becdf",
   "metadata": {
    "tags": []
   },
   "outputs": [
    {
     "data": {
      "text/html": [
       "20"
      ],
      "text/latex": [
       "20"
      ],
      "text/markdown": [
       "20"
      ],
      "text/plain": [
       "[1] 20"
      ]
     },
     "metadata": {},
     "output_type": "display_data"
    }
   ],
   "source": [
    "# Define a multiline expression\n",
    "a <- {\n",
    "  c <- 2\n",
    "  rlang::expr(b <- c * 10)\n",
    "}\n",
    "eval(a)\n",
    "b"
   ]
  },
  {
   "cell_type": "code",
   "execution_count": 21,
   "id": "40eea19c-3e02-44fd-bc29-c9f10f93bb51",
   "metadata": {
    "tags": []
   },
   "outputs": [
    {
     "data": {
      "text/plain": [
       "\u001b[33m█\u001b[39m─\u001b[1m\u001b[35m`<-`\u001b[39m\u001b[22m \n",
       "├─\u001b[1m\u001b[35ma\u001b[39m\u001b[22m \n",
       "└─\u001b[33m█\u001b[39m─\u001b[1m\u001b[35m`+`\u001b[39m\u001b[22m \n",
       "  ├─\u001b[1m\u001b[35mb\u001b[39m\u001b[22m \n",
       "  └─\u001b[1m\u001b[35mc\u001b[39m\u001b[22m "
      ]
     },
     "metadata": {},
     "output_type": "display_data"
    }
   ],
   "source": [
    "# Define an R expression\n",
    "ast(a <- b + c)"
   ]
  },
  {
   "cell_type": "code",
   "execution_count": 28,
   "id": "afa11902-034c-469b-a839-2641ffabd197",
   "metadata": {
    "tags": []
   },
   "outputs": [
    {
     "data": {
      "text/html": [
       "TRUE"
      ],
      "text/latex": [
       "TRUE"
      ],
      "text/markdown": [
       "TRUE"
      ],
      "text/plain": [
       "[1] TRUE"
      ]
     },
     "metadata": {},
     "output_type": "display_data"
    }
   ],
   "source": [
    "# Constants\n",
    "is_syntactic_literal(x)"
   ]
  },
  {
   "cell_type": "code",
   "execution_count": 29,
   "id": "b355cd70-3848-48d2-b6c6-ffb83e4a4ffa",
   "metadata": {
    "tags": []
   },
   "outputs": [
    {
     "data": {
      "text/html": [
       "FALSE"
      ],
      "text/latex": [
       "FALSE"
      ],
      "text/markdown": [
       "FALSE"
      ],
      "text/plain": [
       "[1] FALSE"
      ]
     },
     "metadata": {},
     "output_type": "display_data"
    }
   ],
   "source": [
    "# Symbols\n",
    "is.name(x)"
   ]
  },
  {
   "cell_type": "code",
   "execution_count": 33,
   "id": "eea85648-4081-4622-8391-ef8ad9e1df35",
   "metadata": {
    "tags": []
   },
   "outputs": [
    {
     "data": {
      "text/html": [
       "TRUE"
      ],
      "text/latex": [
       "TRUE"
      ],
      "text/markdown": [
       "TRUE"
      ],
      "text/plain": [
       "[1] TRUE"
      ]
     },
     "metadata": {},
     "output_type": "display_data"
    }
   ],
   "source": [
    "# Calls: represents a captured function call\n",
    "is.call(expr(read.table(\"\")))"
   ]
  },
  {
   "cell_type": "code",
   "execution_count": 49,
   "id": "8f85ba18-c040-48c3-813d-7c70943874d9",
   "metadata": {
    "tags": []
   },
   "outputs": [
    {
     "data": {
      "text/html": [
       "'language'"
      ],
      "text/latex": [
       "'language'"
      ],
      "text/markdown": [
       "'language'"
      ],
      "text/plain": [
       "[1] \"language\""
      ]
     },
     "metadata": {},
     "output_type": "display_data"
    }
   ],
   "source": [
    "exp1 <- parse(text = c(\"\n",
    "x <- 4\n",
    "y <- 7\n",
    "\"))\n",
    "exp1[[1]]"
   ]
  },
  {
   "cell_type": "code",
   "execution_count": 60,
   "id": "f1f8316c-84bb-4e48-a7f6-c5ee520c94a6",
   "metadata": {
    "tags": []
   },
   "outputs": [],
   "source": [
    "expr_type <- function(x) {\n",
    "  if (rlang::is_syntactic_literal(x)) {\n",
    "    \"constant\"\n",
    "  } else if (is.symbol(x)) {\n",
    "    \"symbol\"\n",
    "  } else if (is.call(x)) {\n",
    "    \"call\"\n",
    "  } else if (is.pairlist(x)) {\n",
    "    \"pairlist\"\n",
    "  } else {\n",
    "    typeof(x)\n",
    "  }\n",
    "}"
   ]
  },
  {
   "cell_type": "code",
   "execution_count": 61,
   "id": "f4c71ac1-1331-461d-b9d8-b855573598fe",
   "metadata": {
    "tags": []
   },
   "outputs": [],
   "source": [
    "switch_expr <- function(x, ...) {\n",
    "  switch(expr_type(x),\n",
    "    ...,\n",
    "    stop(\"Don't know how to handle type\", typeof(x), call. = FALSE)\n",
    "  )\n",
    "}"
   ]
  },
  {
   "cell_type": "code",
   "execution_count": 71,
   "id": "2cb35cc7-4a40-44f0-aa27-938f3a98889f",
   "metadata": {
    "tags": []
   },
   "outputs": [],
   "source": [
    "flat_map_chr <- function(.x, .f, ...) {\n",
    "  purrr::flatten_chr(purrr::map(.x, .f, ...))\n",
    "}"
   ]
  },
  {
   "cell_type": "code",
   "execution_count": 72,
   "id": "e3c88efc-ad77-4558-87e1-971ccc448d21",
   "metadata": {
    "tags": []
   },
   "outputs": [],
   "source": [
    "find_assign_rec <- function(x) {\n",
    "  switch_expr(x,\n",
    "    # Base cases\n",
    "    constant = ,\n",
    "    symbol = character(),\n",
    "\n",
    "    # Recursive cases\n",
    "    pairlist = flat_map_chr(as.list(x), find_assign_rec),\n",
    "    call = {\n",
    "      if (is_call(x, \"<-\")) {\n",
    "        as_string(x[[2]])\n",
    "      } else {\n",
    "        flat_map_chr(as.list(x), find_assign_rec)\n",
    "      }\n",
    "    }\n",
    "  )\n",
    "}"
   ]
  },
  {
   "cell_type": "code",
   "execution_count": 74,
   "id": "f78bdb92-6369-4be7-971c-ebf187539328",
   "metadata": {
    "tags": []
   },
   "outputs": [
    {
     "ename": "ERROR",
     "evalue": "Error in loadNamespace(i, c(lib.loc, .libPaths()), versionCheck = vI[[i]]): namespace ‘vctrs’ 0.4.2 is already loaded, but >= 0.5.0 is required\n",
     "output_type": "error",
     "traceback": [
      "Error in loadNamespace(i, c(lib.loc, .libPaths()), versionCheck = vI[[i]]): namespace ‘vctrs’ 0.4.2 is already loaded, but >= 0.5.0 is required\nTraceback:\n",
      "1. find_assign({\n .     a <- 1\n .     a <- 2\n . })",
      "2. unique(find_assign_rec(enexpr(x)))   # at line 1 of file <text>",
      "3. find_assign_rec(enexpr(x))",
      "4. switch_expr(x, constant = , symbol = character(), pairlist = flat_map_chr(as.list(x), \n .     find_assign_rec), call = {\n .     if (is_call(x, \"<-\")) {\n .         as_string(x[[2]])\n .     }\n .     else {\n .         flat_map_chr(as.list(x), find_assign_rec)\n .     }\n . })   # at line 2-16 of file <text>",
      "5. flat_map_chr(as.list(x), find_assign_rec)   # at line 13 of file <text>",
      "6. loadNamespace(x)   # at line 2 of file <text>",
      "7. namespaceImport(ns, loadNamespace(i, c(lib.loc, .libPaths()), \n .     versionCheck = vI[[i]]), from = package)",
      "8. loadNamespace(i, c(lib.loc, .libPaths()), versionCheck = vI[[i]])",
      "9. stop(gettextf(\"namespace %s %s is already loaded, but %s %s is required\", \n .     sQuote(package), current, zop, zversion), domain = NA)"
     ]
    }
   ],
   "source": [
    "find_assign <- function(x) unique(find_assign_rec(enexpr(x)))\n",
    "\n",
    "find_assign({\n",
    "  a <- 1\n",
    "  a <- 2\n",
    "})"
   ]
  },
  {
   "cell_type": "code",
   "execution_count": null,
   "id": "78d1b709-453f-45f6-a3a9-da3797b841be",
   "metadata": {},
   "outputs": [],
   "source": [
    "data(diamonds, package = \"ggplot2\")\n",
    "\n",
    "# Filter the dataset to include only diamonds with a price greater than 10,000\n",
    "diamonds_filtered <- diamonds %>%\n",
    "  filter(price > 10000)"
   ]
  },
  {
   "cell_type": "code",
   "execution_count": null,
   "id": "5393072c-243a-4ee7-9ead-33f2c706027c",
   "metadata": {},
   "outputs": [],
   "source": []
  }
 ],
 "metadata": {
  "kernelspec": {
   "display_name": "R",
   "language": "R",
   "name": "ir"
  },
  "language_info": {
   "codemirror_mode": "r",
   "file_extension": ".r",
   "mimetype": "text/x-r-source",
   "name": "R",
   "pygments_lexer": "r",
   "version": "4.2.3"
  }
 },
 "nbformat": 4,
 "nbformat_minor": 5
}
