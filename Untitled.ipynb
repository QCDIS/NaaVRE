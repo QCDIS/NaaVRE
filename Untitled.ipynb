{
 "cells": [
  {
   "cell_type": "code",
   "execution_count": null,
   "id": "175fb04f-040c-4ab5-b767-d8e325bb25df",
   "metadata": {},
   "outputs": [],
   "source": [
    "import json\n",
    "import re"
   ]
  },
  {
   "cell_type": "code",
   "execution_count": null,
   "id": "d9a95ed2-b731-498e-9a09-813880d92ea6",
   "metadata": {},
   "outputs": [],
   "source": [
    "x = param_x\n",
    "y = \"hello, world!\"\n",
    "mn = x + len(y)"
   ]
  },
  {
   "cell_type": "code",
   "execution_count": null,
   "id": "f2cc6347-6a5b-4b85-9e8c-377cb07afa62",
   "metadata": {},
   "outputs": [],
   "source": [
    "mn"
   ]
  }
 ],
 "metadata": {
  "kernelspec": {
   "display_name": "Python 3 (ipykernel)",
   "language": "python",
   "name": "python3"
  },
  "language_info": {
   "codemirror_mode": {
    "name": "ipython",
    "version": 3
   },
   "file_extension": ".py",
   "mimetype": "text/x-python",
   "name": "python",
   "nbconvert_exporter": "python",
   "pygments_lexer": "ipython3",
   "version": "3.11.3"
  }
 },
 "nbformat": 4,
 "nbformat_minor": 5
}
