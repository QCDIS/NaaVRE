{
 "cells": [
  {
   "cell_type": "code",
   "execution_count": null,
   "id": "b3adb24f-7723-4e7a-aaa2-aa3de9916602",
   "metadata": {
    "tags": []
   },
   "outputs": [],
   "source": [
    "\n",
    "library(readr)\n",
    "library(dplyr)\n",
    "library(ggplot2)\n",
    "library(forcats)\n",
    "\n",
    "# import dataframe\n",
    "df <- read_csv(\"us-500.csv\")\n",
    "\n",
    "# manipulate data\n",
    "plot_data <- df %>%\n",
    "  group_by(state) %>%\n",
    "  count()\n",
    "\n",
    "# save manipulated data to output folder\n",
    "write_csv(plot_data, \"plot_data.csv\")\n",
    "\n",
    "# create plot based on manipulated data\n",
    "plot <- plot_data %>% \n",
    "  ggplot()+\n",
    "  geom_col(aes(fct_reorder(state, n), \n",
    "               n, \n",
    "               fill = n))+\n",
    "  coord_flip()+\n",
    "  labs(\n",
    "    title = \"Number of people by state\",\n",
    "    subtitle = \"From US-500 dataset\",\n",
    "    x = \"State\",\n",
    "    y = \"Number of people\"\n",
    "  )+ \n",
    "  theme_bw()\n",
    "ggsave(\"myplot.png\", width = 10, height = 8, dpi = 100)\n",
    "\n",
    "a = 2\n"
   ]
  },
  {
   "cell_type": "code",
   "execution_count": null,
   "id": "70fa15be-d693-4fce-a89b-5c9f7a9d2193",
   "metadata": {},
   "outputs": [],
   "source": [
    "a"
   ]
  }
 ],
 "metadata": {
  "kernelspec": {
   "display_name": "R",
   "language": "R",
   "name": "ir"
  },
  "language_info": {
   "codemirror_mode": "r",
   "file_extension": ".r",
   "mimetype": "text/x-r-source",
   "name": "R",
   "pygments_lexer": "r",
   "version": "4.2.3"
  }
 },
 "nbformat": 4,
 "nbformat_minor": 5
}
