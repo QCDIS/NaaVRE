{
 "cells": [
  {
   "cell_type": "code",
   "execution_count": 1,
   "id": "b3adb24f-7723-4e7a-aaa2-aa3de9916602",
   "metadata": {
    "tags": []
   },
   "outputs": [
    {
     "ename": "ERROR",
     "evalue": "Error in library(readr): there is no package called ‘readr’\n",
     "output_type": "error",
     "traceback": [
      "Error in library(readr): there is no package called ‘readr’\nTraceback:\n",
      "1. library(readr)"
     ]
    }
   ],
   "source": [
    "\n",
    "library(readr)\n",
    "library(dplyr)\n",
    "library(ggplot2)\n",
    "library(forcats)\n",
    "\n",
    "# import dataframe\n",
    "df <- read_csv(\"us-500.csv\")\n",
    "\n",
    "# manipulate data\n",
    "plot_data <- df %>%\n",
    "  group_by(state) %>%\n",
    "  count()\n",
    "\n",
    "# save manipulated data to output folder\n",
    "write_csv(plot_data, \"plot_data.csv\")\n",
    "\n",
    "# create plot based on manipulated data\n",
    "plot <- plot_data %>% \n",
    "  ggplot()+\n",
    "  geom_col(aes(fct_reorder(state, n), \n",
    "               n, \n",
    "               fill = n))+\n",
    "  coord_flip()+\n",
    "  labs(\n",
    "    title = \"Number of people by state\",\n",
    "    subtitle = \"From US-500 dataset\",\n",
    "    x = \"State\",\n",
    "    y = \"Number of people\"\n",
    "  )+ \n",
    "  theme_bw()\n",
    "ggsave(\"myplot.png\", width = 10, height = 8, dpi = 100)\n",
    "\n",
    "a = 2\n"
   ]
  },
  {
   "cell_type": "code",
   "execution_count": null,
   "id": "70fa15be-d693-4fce-a89b-5c9f7a9d2193",
   "metadata": {},
   "outputs": [],
   "source": [
    "# title_with_underscore\n",
    "param_12 = 3\n",
    "a = 1 * conf_wd_opts\n",
    "\n",
    "b = 2\n"
   ]
  },
  {
   "cell_type": "code",
   "execution_count": null,
   "id": "876f33e2-f3d4-46f1-bccc-42eb678eeb40",
   "metadata": {},
   "outputs": [],
   "source": [
    "# out\n",
    "\n",
    "c = a + 1\n",
    "\n",
    "d = b + a"
   ]
  },
  {
   "cell_type": "code",
   "execution_count": null,
   "id": "f77ede60-1464-467e-bb69-1c45963a4458",
   "metadata": {},
   "outputs": [],
   "source": [
    "#out21\n",
    "\n",
    "e = c + 1 \n",
    "\n",
    "f = d + 1"
   ]
  }
 ],
 "metadata": {
  "kernelspec": {
   "display_name": "R",
   "language": "R",
   "name": "ir"
  },
  "language_info": {
   "codemirror_mode": "r",
   "file_extension": ".r",
   "mimetype": "text/x-r-source",
   "name": "R",
   "pygments_lexer": "r",
   "version": "4.2.3"
  }
 },
 "nbformat": 4,
 "nbformat_minor": 5
}
