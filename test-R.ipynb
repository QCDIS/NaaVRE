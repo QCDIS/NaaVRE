{
 "cells": [
  {
   "cell_type": "code",
   "execution_count": 1,
   "id": "b3adb24f-7723-4e7a-aaa2-aa3de9916602",
   "metadata": {
    "tags": []
   },
   "outputs": [
    {
     "ename": "ERROR",
     "evalue": "Error in library(readr): there is no package called ‘readr’\n",
     "output_type": "error",
     "traceback": [
      "Error in library(readr): there is no package called ‘readr’\nTraceback:\n",
      "1. library(readr)"
     ]
    }
   ],
   "source": [
    "# title_with_underscore\n",
    "\n",
    "a = 1\n",
    "\n",
    "b = 2"
   ]
  },
  {
   "cell_type": "code",
   "execution_count": 1,
   "id": "a6a3c6a2-6e52-4bba-9451-dbd7393c76b7",
   "metadata": {},
   "outputs": [
    {
     "ename": "ERROR",
     "evalue": "Error in parse(text = x, srcfile = src): <text>:1:8: unexpected symbol\n1: import rpy2.robjects\n           ^\n",
     "output_type": "error",
     "traceback": [
      "Error in parse(text = x, srcfile = src): <text>:1:8: unexpected symbol\n1: import rpy2.robjects\n           ^\nTraceback:\n"
     ]
    }
   ],
   "source": [
    "# out\n",
    "\n",
    "c = a + 1\n",
    "\n",
    "d = b + a"
   ]
  },
  {
   "cell_type": "code",
   "execution_count": null,
   "id": "481b7af6-560c-49a1-afce-53675211a016",
   "metadata": {},
   "outputs": [],
   "source": [
    "#out21\n",
    "\n",
    "e = c + 1 \n",
    "\n",
    "f = d + 1"
   ]
  }
 ],
 "metadata": {
  "kernelspec": {
   "display_name": "R",
   "language": "R",
   "name": "ir"
  },
  "language_info": {
   "codemirror_mode": "r",
   "file_extension": ".r",
   "mimetype": "text/x-r-source",
   "name": "R",
   "pygments_lexer": "r",
   "version": "4.2.3"
  }
 },
 "nbformat": 4,
 "nbformat_minor": 5
}
