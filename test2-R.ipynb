{
 "cells": [
  {
   "cell_type": "code",
   "execution_count": 1,
   "id": "b507ae4e-827c-4134-a725-30e245ce7f5e",
   "metadata": {
    "tags": []
   },
   "outputs": [],
   "source": [
    "conf = 3"
   ]
  },
  {
   "cell_type": "code",
   "execution_count": null,
   "id": "4137854c-bafe-4a90-9e86-17cb90b086ad",
   "metadata": {},
   "outputs": [],
   "source": [
    "conf"
   ]
  }
 ],
 "metadata": {
  "kernelspec": {
   "display_name": "R",
   "language": "R",
   "name": "ir"
  },
  "language_info": {
   "codemirror_mode": "r",
   "file_extension": ".r",
   "mimetype": "text/x-r-source",
   "name": "R",
   "pygments_lexer": "r",
   "version": "4.2.3"
  }
 },
 "nbformat": 4,
 "nbformat_minor": 5
}
