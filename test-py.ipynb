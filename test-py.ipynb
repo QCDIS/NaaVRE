{
 "cells": [
  {
   "cell_type": "code",
   "execution_count": 1,
   "id": "c30e7107-6bba-4454-975a-106bcfd35fb5",
   "metadata": {
    "tags": []
   },
   "outputs": [],
   "source": [
    "import re"
   ]
  },
  {
   "cell_type": "code",
   "execution_count": null,
   "id": "1e621625-b2d7-4861-a25d-bfb949a3d6e0",
   "metadata": {},
   "outputs": [],
   "source": [
    "x = 9 * param_c"
   ]
  },
  {
   "cell_type": "code",
   "execution_count": null,
   "id": "f8ec2046-4377-408c-bdf1-4dda55ac8397",
   "metadata": {},
   "outputs": [],
   "source": [
    "x"
   ]
  }
 ],
 "metadata": {
  "kernelspec": {
   "display_name": "Python 3 (ipykernel)",
   "language": "python",
   "name": "python3"
  },
  "language_info": {
   "codemirror_mode": {
    "name": "ipython",
    "version": 3
   },
   "file_extension": ".py",
   "mimetype": "text/x-python",
   "name": "python",
   "nbconvert_exporter": "python",
   "pygments_lexer": "ipython3",
   "version": "3.11.3"
  }
 },
 "nbformat": 4,
 "nbformat_minor": 5
}
