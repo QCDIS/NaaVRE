{
 "cells": [
  {
   "cell_type": "code",
   "execution_count": 4,
   "id": "c30e7107-6bba-4454-975a-106bcfd35fb5",
   "metadata": {
    "tags": []
   },
   "outputs": [
    {
     "name": "stdout",
     "output_type": "stream",
     "text": [
      "\n",
      "    library(readr)\n",
      "library(dplyr)\n",
      "library(ggplot2)\n",
      "library(forcats)\n",
      "\n",
      "df <- read_csv(opt$param_sheet_url)\n",
      "\n",
      "plot_data <- df %>%\n",
      "  group_by(state) %>%\n",
      "  count()\n",
      "\n",
      "write_csv(plot_data, \"plot_data.csv\")\n",
      "\n",
      "plot <- plot_data %>% \n",
      "  ggplot()+\n",
      "  geom_col(aes(fct_reorder(state, n), \n",
      "               n, \n",
      "               fill = n))+\n",
      "  coord_flip()+\n",
      "  labs(\n",
      "    title = \"Number of people by state\",\n",
      "    subtitle = \"From US-500 dataset\",\n",
      "    x = \"State\",\n",
      "    y = \"Number of people\"\n",
      "  )+ \n",
      "  theme_bw()\n",
      "ggsave(\"myplot.png\", width = opt$param_width, height = 8, dpi = 100)\n",
      "\n"
     ]
    }
   ],
   "source": [
    "import re"
   ]
  },
  {
   "cell_type": "code",
   "execution_count": null,
   "id": "1e621625-b2d7-4861-a25d-bfb949a3d6e0",
   "metadata": {},
   "outputs": [],
   "source": [
    "x = re.findall(\"\")"
   ]
  }
 ],
 "metadata": {
  "kernelspec": {
   "display_name": "Python 3 (ipykernel)",
   "language": "python",
   "name": "python3"
  },
  "language_info": {
   "codemirror_mode": {
    "name": "ipython",
    "version": 3
   },
   "file_extension": ".py",
   "mimetype": "text/x-python",
   "name": "python",
   "nbconvert_exporter": "python",
   "pygments_lexer": "ipython3",
   "version": "3.11.3"
  }
 },
 "nbformat": 4,
 "nbformat_minor": 5
}
