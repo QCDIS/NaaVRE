{
 "cells": [
  {
   "cell_type": "code",
   "execution_count": null,
   "id": "a808f0be-34d5-4b98-9943-d54487219739",
   "metadata": {},
   "outputs": [],
   "source": [
    "library(dplyr)"
   ]
  },
  {
   "cell_type": "code",
   "execution_count": null,
   "id": "254307ba-b422-481a-96a7-b66fd91977a0",
   "metadata": {},
   "outputs": [],
   "source": [
    "r <- param_c * 9"
   ]
  },
  {
   "cell_type": "code",
   "execution_count": null,
   "id": "045a2d08-fe2b-4a7a-8d57-d1608358fcb3",
   "metadata": {},
   "outputs": [],
   "source": [
    "r"
   ]
  }
 ],
 "metadata": {
  "kernelspec": {
   "display_name": "R",
   "language": "R",
   "name": "ir"
  },
  "language_info": {
   "codemirror_mode": "r",
   "file_extension": ".r",
   "mimetype": "text/x-r-source",
   "name": "R",
   "pygments_lexer": "r",
   "version": "4.2.3"
  }
 },
 "nbformat": 4,
 "nbformat_minor": 5
}
