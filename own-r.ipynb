{
 "cells": [
  {
   "cell_type": "code",
   "execution_count": 1,
   "id": "a808f0be-34d5-4b98-9943-d54487219739",
   "metadata": {},
   "outputs": [
    {
     "ename": "ERROR",
     "evalue": "Error in library(readr): there is no package called ‘readr’\n",
     "output_type": "error",
     "traceback": [
      "Error in library(readr): there is no package called ‘readr’\nTraceback:\n",
      "1. library(readr)"
     ]
    }
   ],
   "source": [
    "# My file\n",
    "library(readr)\n",
    "library(dplyr)\n",
    "library(ggplot2)\n",
    "library(forcats)\n",
    "\n",
    "# import dataframe\n",
    "df <- read_csv(param_sheet_url)\n",
    "\n",
    "# manipulate data\n",
    "plot_data <- df %>%\n",
    "  group_by(state) %>%\n",
    "  count()\n",
    "\n",
    "# save manipulated data to output folder\n",
    "write_csv(plot_data, \"plot_data.csv\")\n",
    "\n",
    "# create plot based on manipulated data\n",
    "plot <- plot_data %>% \n",
    "  ggplot()+\n",
    "  geom_col(aes(fct_reorder(state, n), \n",
    "               n, \n",
    "               fill = n))+\n",
    "  coord_flip()+\n",
    "  labs(\n",
    "    title = \"Number of people by state\",\n",
    "    subtitle = \"From US-500 dataset\",\n",
    "    x = \"State\",\n",
    "    y = \"Number of people\"\n",
    "  )+ \n",
    "  theme_bw()\n",
    "ggsave(\"myplot.png\", width = param_width, height = 8, dpi = 100)"
   ]
  },
  {
   "cell_type": "code",
   "execution_count": 2,
   "id": "81908f70-a0eb-4eb6-a708-29297c086710",
   "metadata": {
    "tags": []
   },
   "outputs": [
    {
     "ename": "ERROR",
     "evalue": "Error in parse(text = x, srcfile = src): <text>:1:13: unexpected string constant\n27:   theme_bw()\n28: ggsave(\"myplot.png\", width = param_width, height = 8, dpi = 100)'\n                ^\n",
     "output_type": "error",
     "traceback": [
      "Error in parse(text = x, srcfile = src): <text>:1:13: unexpected string constant\n27:   theme_bw()\n28: ggsave(\"myplot.png\", width = param_width, height = 8, dpi = 100)'\n                ^\nTraceback:\n"
     ]
    }
   ],
   "source": []
  },
  {
   "cell_type": "code",
   "execution_count": null,
   "id": "d9793919-1f42-40ff-8e58-99a058db4d08",
   "metadata": {},
   "outputs": [],
   "source": []
  }
 ],
 "metadata": {
  "kernelspec": {
   "display_name": "R",
   "language": "R",
   "name": "ir"
  },
  "language_info": {
   "codemirror_mode": "r",
   "file_extension": ".r",
   "mimetype": "text/x-r-source",
   "name": "R",
   "pygments_lexer": "r",
   "version": "4.2.3"
  }
 },
 "nbformat": 4,
 "nbformat_minor": 5
}
