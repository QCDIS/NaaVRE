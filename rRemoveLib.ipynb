{
 "cells": [
  {
   "cell_type": "code",
   "execution_count": null,
   "id": "4ee40c44-89d1-4591-b17d-3428cd95c473",
   "metadata": {},
   "outputs": [],
   "source": [
    "library(s)\n",
    "a <- v\n",
    "b = x"
   ]
  },
  {
   "cell_type": "code",
   "execution_count": null,
   "id": "5c10ebdb-e3f7-4c17-9405-a18a18aa849c",
   "metadata": {},
   "outputs": [],
   "source": [
    "c <- a + b"
   ]
  }
 ],
 "metadata": {
  "kernelspec": {
   "display_name": "R",
   "language": "R",
   "name": "ir"
  },
  "language_info": {
   "codemirror_mode": "r",
   "file_extension": ".r",
   "mimetype": "text/x-r-source",
   "name": "R",
   "pygments_lexer": "r",
   "version": "4.2.3"
  }
 },
 "nbformat": 4,
 "nbformat_minor": 5
}
