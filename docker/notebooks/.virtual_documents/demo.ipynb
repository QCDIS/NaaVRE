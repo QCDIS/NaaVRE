import copy
import fnmatch
import json
import getpass
import os
import pathlib
import datetime
from laserchicken import load
from laserchicken import compute_features
import requests


# Load a las file
from laserchicken import load

url = "https://lwdatasetstorage.blob.core.windows.net/pointclouddata/test_data/Test_veg.las"

r = requests.get(url)
with open("/tmp/data.laz", 'wb') as f:
    f.write(r.content)


point_cloud = load("/tmp/data.laz")


# Normalize point cloud

from laserchicken.normalize import normalize
point_cloud_normalized = normalize(point_cloud)


# Filter points by attributed threshold

from laserchicken.filter import select_above, select_below
filtered = select_above(point_cloud_normalized, attribute='normalized_height', threshold=1)


filtered


# Compute neighbors

from laserchicken import compute_neighborhoods
from laserchicken import build_volume

volume = build_volume(volume_type='sphere', radius=1)
neighborhoods = compute_neighborhoods(point_cloud_normalized, point_cloud_normalized, volume)


neighborhoods


# Print a list of all available feature names

from laserchicken.feature_extractor.feature_extraction import list_feature_names
sorted(list_feature_names())


# Calculate selected features

cylinder = build_volume(volume_type='infinite cylinder', radius=1)
#compute_features(point_cloud, neighborhoods, targets, ['band_ratio_1<normalized_height<2'], cylinder)
features = compute_features(point_cloud_normalized, neighborhoods, point_cloud, ['perc_95_normalized_height', 'var_normalized_height'], cylinder)


features


point_cloud_normalized


# Write result to ply file

from laserchicken import export
import getpass

print(features)
export(point_cloud_normalized, 'Test_veg.ply')


# Visualize the result

import numpy as np
import open3d as o3d

pcd = o3d.io.read_point_cloud("Test_veg.ply")
#print(pcd)

np.asarray(pcd.points)
o3d.visualization.draw_geometries([pcd])




