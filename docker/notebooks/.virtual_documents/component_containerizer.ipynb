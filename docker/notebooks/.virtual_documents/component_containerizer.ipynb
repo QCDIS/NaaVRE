# Test title


# Test input

var = foo


# Use output

var2 = var


# Parameters example

def function(param1=0, param2=''):
    return '%d-%s' % (param1, param2)

result = function(param1=3, param2='test')


# Complete example

def function(param1=0, param2=''):
    return '%d-%s' % (param1, param2)

result = function(param1=3, param2='test')
foo = var


from random import gauss


# Test dependencies

p1 = 1
test = gauss(p1, var2)
