{
 "cells": [
  {
   "cell_type": "code",
   "execution_count": 4,
   "id": "69cd2e73-e086-4470-83aa-4bc1c2c6b303",
   "metadata": {},
   "outputs": [],
   "source": [
    "import fnmatch\n",
    "import json\n",
    "import getpass\n",
    "import os\n",
    "import pathlib\n",
    "import datetime\n",
    "                    \n",
    "from dask.distributed import LocalCluster, SSHCluster \n",
    "from laserfarm import Retiler, DataProcessing, GeotiffWriter, MacroPipeline\n",
    "from laserfarm.remote_utils import get_wdclient, get_info_remote, list_remote"
   ]
  },
  {
   "cell_type": "markdown",
   "id": "7ce46b88-7913-4df3-89cb-285ac6c38862",
   "metadata": {},
   "source": [
    "## Global Configuration"
   ]
  },
  {
   "cell_type": "code",
   "execution_count": 6,
   "id": "412ff5aa-ccec-49e7-96d2-601e33470440",
   "metadata": {
    "tags": []
   },
   "outputs": [],
   "source": [
    "# Configurations\n",
    "\n",
    "import fnmatch\n",
    "import json\n",
    "import getpass\n",
    "import os\n",
    "import pathlib\n",
    "import datetime\n",
    "                    \n",
    "from dask.distributed import LocalCluster, SSHCluster \n",
    "from laserfarm import Retiler, DataProcessing, GeotiffWriter, MacroPipeline\n",
    "from laserfarm.remote_utils import get_wdclient, get_info_remote, list_remote\n",
    "\n",
    "conf_remote_path_root = pathlib.Path('/webdav')\n",
    "conf_remote_path_ahn = pathlib.Path('/webdav/ahn')\n",
    "conf_remote_path_retiled = pathlib.Path('/webdav/retiled/')\n",
    "conf_remote_path_targets = pathlib.Path('/webdav/targets')\n",
    "conf_local_tmp = pathlib.Path('/tmp')\n",
    "\n",
    "param_hostname = ''\n",
    "param_login = ''\n",
    "param_password = ''\n",
    "\n",
    "param_feature_name = 'perc_95_normalized_height'\n",
    "param_validate_precision = '0.00001'\n",
    "param_tile_mesh_size = '10.'\n",
    "param_filter_type= 'select_equal'\n",
    "param_attribute = 'raw_classification'\n",
    "param_min_x = '-113107.81'\n",
    "param_max_x = '398892.19'\n",
    "param_min_y = '214783.87'\n",
    "param_max_y = '726783.87'\n",
    "param_n_tiles_side = '512'\n",
    "param_apply_filter_value = '1'\n",
    "\n",
    "conf_wd_opts = { 'webdav_hostname': param_hostname, 'webdav_login': param_login, 'webdav_password': param_password}"
   ]
  },
  {
   "cell_type": "markdown",
   "id": "69c05beb-5a07-4df5-82ce-e705c790c411",
   "metadata": {},
   "source": [
    "## Fetching Laz Files from remote WebDAV"
   ]
  },
  {
   "cell_type": "code",
   "execution_count": 7,
   "id": "4d567fa3-9d09-4940-99a5-bdf7fc5e476f",
   "metadata": {},
   "outputs": [],
   "source": [
    "# Fetch Laz Files 19-04-22\n",
    "laz_files = [f for f in list_remote(get_wdclient(conf_wd_opts), conf_remote_path_ahn.as_posix())\n",
    "             if f.lower().endswith('.laz')]"
   ]
  },
  {
   "cell_type": "markdown",
   "id": "80aef522-e847-47ea-84f6-d3df6b4a4b00",
   "metadata": {},
   "source": [
    "## Retiling of big files into smaller tiles"
   ]
  },
  {
   "cell_type": "code",
   "execution_count": 11,
   "id": "4df65dbb-ced5-4cb5-89f6-830dbca1fc6a",
   "metadata": {},
   "outputs": [
    {
     "name": "stderr",
     "output_type": "stream",
     "text": [
      "2022-04-14 16:41:09,727 -           laserfarm.pipeline_remote_data -       INFO - Input dir set to /tmp/C_18HZ2.LAZ_input\n",
      "2022-04-14 16:41:09,728 -           laserfarm.pipeline_remote_data -       INFO - Output dir set to /tmp/C_18HZ2.LAZ_output\n",
      "2022-04-14 16:41:09,732 -           laserfarm.pipeline_remote_data -       INFO - Pulling from WebDAV /webdav/ahn/C_18HZ2.LAZ ...\n",
      "2022-04-14 16:41:10,888 -           laserfarm.pipeline_remote_data -       INFO - ... pulling completed.\n",
      "2022-04-14 16:41:10,889 -                        laserfarm.retiler -       INFO - Setting up the target grid\n",
      "2022-04-14 16:41:10,892 -                        laserfarm.retiler -       INFO - Splitting file /tmp/C_18HZ2.LAZ_input/C_18HZ2.LAZ with PDAL ...\n",
      "2022-04-14 16:41:11,351 -                        laserfarm.retiler -       INFO - ... splitting completed.\n",
      "2022-04-14 16:41:11,352 -                        laserfarm.retiler -       INFO - Redistributing files to tiles ...\n",
      "2022-04-14 16:41:11,354 -                        laserfarm.retiler -       INFO - ... file C_18HZ2_1.LAZ to tile_213_285\n",
      "2022-04-14 16:41:11,356 -                        laserfarm.retiler -       INFO - ... file C_18HZ2_2.LAZ to tile_212_285\n",
      "2022-04-14 16:41:11,357 -                        laserfarm.retiler -       INFO - ... redistributing completed.\n",
      "2022-04-14 16:41:11,358 -                        laserfarm.retiler -       INFO - Validating split ...\n",
      "2022-04-14 16:41:11,359 -                        laserfarm.retiler -       INFO - ... 257128 points in parent file\n",
      "2022-04-14 16:41:11,360 -                        laserfarm.retiler -       INFO - ... 231714 points in C_18HZ2_1.LAZ\n",
      "2022-04-14 16:41:11,361 -                        laserfarm.retiler -       INFO - ... 25414 points in C_18HZ2_2.LAZ\n",
      "2022-04-14 16:41:11,362 -                        laserfarm.retiler -       INFO - ... split validation completed.\n",
      "2022-04-14 16:41:11,363 -           laserfarm.pipeline_remote_data -       INFO - Pushing to WebDAV /webdav/retiled ...\n",
      "2022-04-14 16:41:16,176 -           laserfarm.pipeline_remote_data -       INFO - ... pushing completed.\n",
      "2022-04-14 16:41:16,179 -           laserfarm.pipeline_remote_data -       INFO - Removing input and output folders\n"
     ]
    }
   ],
   "source": [
    "# Retiling \n",
    "\n",
    "\n",
    "from IPython.display import display, HTML   \n",
    "\n",
    "remote_path_retiled = str(conf_remote_path_retiled)\n",
    "\n",
    "grid_retile = {\n",
    "    'min_x': float(param_min_x),\n",
    "    'max_x': float(param_max_x),\n",
    "    'min_y': float(param_min_y),\n",
    "    'max_y': float(param_max_y),\n",
    "    'n_tiles_side': int(param_n_tiles_side)\n",
    "}\n",
    "\n",
    "\n",
    "retiling_input = {\n",
    "    'setup_local_fs': {'tmp_folder': conf_local_tmp.as_posix()},\n",
    "    'pullremote': conf_remote_path_ahn.as_posix(),\n",
    "    'set_grid': grid_retile,\n",
    "    'split_and_redistribute': {},\n",
    "    'validate': {},\n",
    "    'pushremote': conf_remote_path_retiled.as_posix(),\n",
    "    'cleanlocalfs': {}\n",
    "}\n",
    "\n",
    "\n",
    "# try:\n",
    "#     get_ipython\n",
    "#     file = laz_files[0]\n",
    "# except:\n",
    "#     file = laz_files\n",
    "    \n",
    "file = laz_files\n",
    "    \n",
    "retiler = Retiler(file,label=file).config(retiling_input).setup_webdav_client(conf_wd_opts)\n",
    "retiler_output = retiler.run()"
   ]
  },
  {
   "cell_type": "markdown",
   "id": "aa7bc806-32b4-45f9-82bd-372c6b749798",
   "metadata": {},
   "source": [
    "## Fetching retilied files (tiles) from remote WebDAV"
   ]
  },
  {
   "cell_type": "code",
   "execution_count": 12,
   "id": "73558559-fa56-4593-a109-a95d2b0ff916",
   "metadata": {},
   "outputs": [],
   "source": [
    "# Fetch Tiles \n",
    "remote_path_retiled\n",
    "\n",
    "tiles = [t.strip('/') for t in list_remote(get_wdclient(conf_wd_opts), conf_remote_path_retiled.as_posix())\n",
    "         if fnmatch.fnmatch(t, 'tile_*_*/')]"
   ]
  },
  {
   "cell_type": "markdown",
   "id": "e67e7b63-531c-4a62-a1d7-6f7fa30bbdf9",
   "metadata": {},
   "source": [
    "## Extract features from tiles"
   ]
  },
  {
   "cell_type": "code",
   "execution_count": 15,
   "id": "f434bbe9-7f72-49dc-8c85-e6400bad8d59",
   "metadata": {},
   "outputs": [
    {
     "name": "stderr",
     "output_type": "stream",
     "text": [
      "2022-04-14 16:42:17,149 -           laserfarm.pipeline_remote_data -       INFO - Input dir set to /tmp/tile_278_391_input\n",
      "2022-04-14 16:42:17,151 -           laserfarm.pipeline_remote_data -       INFO - Output dir set to /tmp/tile_278_391_output\n",
      "2022-04-14 16:42:17,153 -           laserfarm.pipeline_remote_data -       INFO - Pulling from WebDAV /webdav/retiled/tile_278_391 ...\n",
      "2022-04-14 16:42:19,761 -           laserfarm.pipeline_remote_data -       INFO - ... pulling completed.\n",
      "2022-04-14 16:42:19,765 -                laserfarm.data_processing -       INFO - Loading point cloud data ...\n",
      "2022-04-14 16:42:19,766 -                laserfarm.data_processing -       INFO - ... loading /tmp/tile_278_391_input/tile_278_391/C_01GN2_1.LAZ\n",
      "2022-04-14 16:42:19,823 -                          pylas.lasreader -      ERROR - lazrs failed to decompress points: lazrs is not installed\n",
      "2022-04-14 16:42:23,983 -                laserfarm.data_processing -       INFO - ... loading completed.\n",
      "2022-04-14 16:42:23,984 -                laserfarm.data_processing -       INFO - Normalizing point-cloud heights ...\n",
      "2022-04-14 16:42:24,785 -                                     root -       INFO - Cylinder size in Bytes: 3056136558.191318\n",
      "2022-04-14 16:42:24,787 -                                     root -       INFO - Memory size in Bytes: 16819240960\n",
      "2022-04-14 16:42:24,787 -                                     root -       INFO - Start tree creation\n",
      "2022-04-14 16:42:25,325 -                                     root -       INFO - Done with env tree creation\n",
      "2022-04-14 16:42:25,413 -                                     root -       INFO - Done with target tree creation\n",
      "2022-04-14 16:42:43,767 -                laserfarm.data_processing -       INFO - ... normalization completed.\n",
      "2022-04-14 16:42:43,769 -                laserfarm.data_processing -       INFO - Filtering point-cloud data\n",
      "2022-04-14 16:42:43,776 -                laserfarm.data_processing -       INFO - Setting up the target grid\n",
      "2022-04-14 16:42:43,778 -                laserfarm.data_processing -       INFO - Checking whether points belong to cell (278,391)\n",
      "2022-04-14 16:42:43,779 -                laserfarm.data_processing -       INFO - Generating target point mesh with 10.0m spacing \n",
      "2022-04-14 16:42:43,781 -                laserfarm.data_processing -       INFO - Building volume of type cell\n",
      "2022-04-14 16:42:43,782 -                laserfarm.data_processing -       INFO - Constructing neighborhoods\n",
      "2022-04-14 16:42:43,782 -                laserfarm.data_processing -       INFO - Starting feature extraction ...\n",
      "2022-04-14 16:42:43,784 -                                     root -       INFO - Cylinder size in Bytes: 6408849013.323179\n",
      "2022-04-14 16:42:43,784 -                                     root -       INFO - Memory size in Bytes: 16819240960\n",
      "2022-04-14 16:42:43,785 -                                     root -       INFO - Start tree creation\n",
      "2022-04-14 16:42:43,786 -                                     root -       INFO - Done with env tree creation\n",
      "2022-04-14 16:42:43,789 -                                     root -       INFO - Done with target tree creation\n",
      "2022-04-14 16:42:43,800 -                                     root -       INFO - Extracting feature(s) \"['perc_95_normalized_height']\"\n",
      "2022-04-14 16:42:43,855 -                                     root -       INFO - Extracting feature(s) \"['perc_95_normalized_height']\" took 0.05 seconds\n",
      "2022-04-14 16:42:43,856 -                laserfarm.data_processing -       INFO - ... feature extraction completed.\n",
      "2022-04-14 16:42:43,858 -                laserfarm.data_processing -       INFO - Exporting target point-cloud ...\n",
      "2022-04-14 16:42:43,859 -                laserfarm.data_processing -       INFO - ... exporting /tmp/tile_278_391_output/perc_95_normalized_height/tile_278_391.ply\n",
      "2022-04-14 16:42:43,967 -                laserfarm.data_processing -       INFO - ... exporting completed.\n",
      "2022-04-14 16:42:43,968 -           laserfarm.pipeline_remote_data -       INFO - Pushing to WebDAV /webdav/targets ...\n",
      "2022-04-14 16:42:46,584 -           laserfarm.pipeline_remote_data -       INFO - ... pushing completed.\n"
     ]
    }
   ],
   "source": [
    "# Feature Extraction\n",
    "\n",
    "\n",
    "# try:\n",
    "#     get_ipython\n",
    "#     t = tiles[0]\n",
    "# except:\n",
    "    # t = tiles    \n",
    "    \n",
    "t = tiles\n",
    "    \n",
    "\n",
    "features = [param_feature_name]\n",
    "\n",
    "tile_mesh_size = float(param_tile_mesh_size)\n",
    "\n",
    "grid_feature = {\n",
    "    'min_x': float(param_min_x),\n",
    "    'max_x': float(param_max_x),\n",
    "    'min_y': float(param_min_y),\n",
    "    'max_y': float(param_max_y),\n",
    "    'n_tiles_side': int(param_n_tiles_side)\n",
    "}\n",
    "\n",
    "feature_extraction_input = {\n",
    "    'setup_local_fs': {'tmp_folder': conf_local_tmp.as_posix()},\n",
    "    'pullremote': conf_remote_path_retiled.as_posix(),\n",
    "    'load': {'attributes': [param_attribute]},\n",
    "    'normalize': 1,\n",
    "    'apply_filter': {\n",
    "        'filter_type': param_filter_type, \n",
    "        'attribute': param_attribute,\n",
    "        'value': [int(param_apply_filter_value)]#ground surface (2), water (9), buildings (6), artificial objects (26), vegetation (?), and unclassified (1)\n",
    "    },\n",
    "    'generate_targets': {\n",
    "        'tile_mesh_size' : tile_mesh_size,\n",
    "        'validate' : True,\n",
    "        'validate_precision': float(param_validate_precision),\n",
    "        **grid_feature\n",
    "    },\n",
    "    'extract_features': {\n",
    "        'feature_names': features,\n",
    "        'volume_type': 'cell',\n",
    "        'volume_size': tile_mesh_size\n",
    "    },\n",
    "    'export_targets': {\n",
    "        'attributes': features,\n",
    "        'multi_band_files': False\n",
    "    },\n",
    "    'pushremote': conf_remote_path_targets.as_posix(),\n",
    "#     'cleanlocalfs': {}\n",
    "}\n",
    "\n",
    "\n",
    "\n",
    "    \n",
    "    \n",
    "    \n",
    "idx = (t.split('_')[1:])\n",
    "    \n",
    "processing = DataProcessing(t, tile_index=idx,label=t).config(feature_extraction_input).setup_webdav_client(conf_wd_opts)\n",
    "processing.run()"
   ]
  },
  {
   "cell_type": "code",
   "execution_count": 19,
   "id": "0f13eaf2-136a-48ff-ad2c-f6771867cdeb",
   "metadata": {},
   "outputs": [
    {
     "name": "stderr",
     "output_type": "stream",
     "text": [
      "2022-04-15 08:54:22,739 -           laserfarm.pipeline_remote_data -       INFO - Input dir set to /tmp/perc_95_normalized_height_input\n",
      "2022-04-15 08:54:22,742 -           laserfarm.pipeline_remote_data -       INFO - Output dir set to /tmp/perc_95_normalized_height_output\n",
      "2022-04-15 08:54:22,744 -           laserfarm.pipeline_remote_data -       INFO - Pulling from WebDAV /webdav/targets/perc_95_normalized_height ...\n",
      "2022-04-15 08:54:48,012 -           laserfarm.pipeline_remote_data -       INFO - ... pulling completed.\n",
      "2022-04-15 08:54:48,014 -                 laserfarm.geotiff_writer -       INFO - 27 PLY files found\n",
      "2022-04-15 08:54:48,067 -                 laserfarm.geotiff_writer -       INFO - No. of points per file: 10000\n",
      "2022-04-15 08:54:48,070 -                 laserfarm.geotiff_writer -       INFO - Resolution: (10.0m x 10.0m)\n",
      "2022-04-15 08:54:48,071 -                 laserfarm.geotiff_writer -       INFO - Splitting data into (1x1) sub-regions\n",
      "2022-04-15 08:54:48,072 -                 laserfarm.geotiff_writer -       INFO - Processing sub-region GeoTiff no. 0 ...\n",
      "2022-04-15 08:54:48,073 -                 laserfarm.geotiff_writer -       INFO - ... number of constituent tiles: 27\n",
      "2022-04-15 08:54:57,905 -                 laserfarm.geotiff_writer -       INFO - ... processing of sub-region completed.\n",
      "2022-04-15 08:54:57,908 -           laserfarm.pipeline_remote_data -       INFO - Pushing to WebDAV /webdav/geotiffs ...\n",
      "2022-04-15 08:55:01,213 -           laserfarm.pipeline_remote_data -       INFO - ... pushing completed.\n",
      "2022-04-15 08:55:01,217 -           laserfarm.pipeline_remote_data -       INFO - Removing input and output folders\n"
     ]
    }
   ],
   "source": [
    "# GeoTIFF Export\n",
    "\n",
    "feature = features\n",
    "\n",
    "remote_path_geotiffs = conf_remote_path_ahn.parent / 'geotiffs'\n",
    "\n",
    "# setup input dictionary to configure the GeoTIFF export pipeline\n",
    "geotiff_export_input = {\n",
    "    'setup_local_fs': {'tmp_folder': conf_local_tmp.as_posix()},\n",
    "    'pullremote': conf_remote_path_targets.as_posix(),\n",
    "    'parse_point_cloud': {},\n",
    "    'data_split': {'xSub': 1, 'ySub': 1},\n",
    "    'create_subregion_geotiffs': {'output_handle': 'geotiff'},\n",
    "    'pushremote': remote_path_geotiffs.as_posix(),\n",
    "    'cleanlocalfs': {}   \n",
    "}\n",
    "\n",
    "writer = GeotiffWriter(input_dir=param_feature_name, bands=param_feature_name,label=param_feature_name).config(geotiff_export_input).setup_webdav_client(conf_wd_opts)\n",
    "writer.run()"
   ]
  },
  {
   "cell_type": "code",
   "execution_count": null,
   "id": "d040f521-aadb-46d5-a9a9-df9af611df8e",
   "metadata": {},
   "outputs": [],
   "source": [
    "print(remote_path_geotiffs)"
   ]
  }
 ],
 "metadata": {
  "kernelspec": {
   "display_name": "Python 3 (ipykernel)",
   "language": "python",
   "name": "python3"
  },
  "language_info": {
   "codemirror_mode": {
    "name": "ipython",
    "version": 3
   },
   "file_extension": ".py",
   "mimetype": "text/x-python",
   "name": "python",
   "nbconvert_exporter": "python",
   "pygments_lexer": "ipython3",
   "version": "3.9.7"
  }
 },
 "nbformat": 4,
 "nbformat_minor": 5
}
