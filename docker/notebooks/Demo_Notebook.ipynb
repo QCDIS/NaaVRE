{
 "cells": [
  {
   "cell_type": "code",
   "execution_count": null,
   "id": "69cd2e73-e086-4470-83aa-4bc1c2c6b303",
   "metadata": {},
   "outputs": [],
   "source": [
    "import fnmatch\n",
    "import json\n",
    "import getpass\n",
    "import os\n",
    "import pathlib\n",
    "import datetime\n",
    "                    \n",
    "from dask.distributed import LocalCluster, SSHCluster \n",
    "from laserfarm import Retiler, DataProcessing, GeotiffWriter, MacroPipeline\n",
    "from laserfarm.remote_utils import get_wdclient, get_info_remote, list_remote"
   ]
  },
  {
   "cell_type": "markdown",
   "id": "7ce46b88-7913-4df3-89cb-285ac6c38862",
   "metadata": {},
   "source": [
    "## Global Configuration"
   ]
  },
  {
   "cell_type": "code",
   "execution_count": null,
   "id": "412ff5aa-ccec-49e7-96d2-601e33470440",
   "metadata": {},
   "outputs": [],
   "source": [
    "# Configurations\n",
    "\n",
    "conf_remote_path_root = pathlib.Path('/pnfs/grid.sara.nl/data/projects.nl/eecolidar/02_UvA/')\n",
    "conf_remote_path_ahn = pathlib.Path('/pnfs/grid.sara.nl/data/projects.nl/eecolidar/02_UvA/YShi/Spain/Sevilla')\n",
    "conf_remote_path_retiled = pathlib.Path('/pnfs/grid.sara.nl/data/projects.nl/eecolidar/02_UvA/retiled')\n",
    "conf_remote_path_targets = pathlib.Path('/pnfs/grid.sara.nl/data/projects.nl/eecolidar/02_UvA/targets')\n",
    "conf_local_tmp = pathlib.Path('/tmp')\n",
    "\n",
    "param_webdav_token = ''\n",
    "\n",
    "conf_wd_opts = {'webdav_hostname': 'https://webdav.grid.surfsara.nl:2880', 'webdav_token': param_webdav_token}"
   ]
  },
  {
   "cell_type": "markdown",
   "id": "69c05beb-5a07-4df5-82ce-e705c790c411",
   "metadata": {},
   "source": [
    "## Fetching Laz Files from remote WebDAV"
   ]
  },
  {
   "cell_type": "code",
   "execution_count": null,
   "id": "4d567fa3-9d09-4940-99a5-bdf7fc5e476f",
   "metadata": {},
   "outputs": [],
   "source": [
    "# Fetch Laz Files\n",
    "\n",
    "laz_files = [f for f in list_remote(get_wdclient(conf_wd_opts), conf_remote_path_ahn.as_posix())\n",
    "             if f.lower().endswith('.laz')]"
   ]
  },
  {
   "cell_type": "markdown",
   "id": "80aef522-e847-47ea-84f6-d3df6b4a4b00",
   "metadata": {},
   "source": [
    "## Retiling of big files into smaller tiles"
   ]
  },
  {
   "cell_type": "code",
   "execution_count": null,
   "id": "4df65dbb-ced5-4cb5-89f6-830dbca1fc6a",
   "metadata": {},
   "outputs": [],
   "source": [
    "# Retiling\n",
    "\n",
    "remote_path_retiled = conf_remote_path_retiled\n",
    "\n",
    "grid_retile = {\n",
    "    'min_x': -113107.81,\n",
    "    'max_x': 398892.19,\n",
    "    'min_y': 214783.87,\n",
    "    'max_y': 726783.87,\n",
    "    'n_tiles_side': 512\n",
    "}\n",
    "\n",
    "\n",
    "retiling_input = {\n",
    "    'setup_local_fs': {'tmp_folder': conf_local_tmp.as_posix()},\n",
    "    'pullremote': conf_remote_path_ahn.as_posix(),\n",
    "    'set_grid': grid_retile,\n",
    "    'split_and_redistribute': {},\n",
    "    'validate': {},\n",
    "    'pushremote': conf_remote_path_retiled.as_posix(),\n",
    "    'cleanlocalfs': {}\n",
    "}\n",
    "\n",
    "file = laz_files[0]\n",
    "retiler = Retiler(file).config(retiling_input).setup_webdav_client(conf_wd_opts)\n",
    "retiler.run()"
   ]
  },
  {
   "cell_type": "markdown",
   "id": "aa7bc806-32b4-45f9-82bd-372c6b749798",
   "metadata": {},
   "source": [
    "## Fetching retilied files (tiles) from remote WebDAV"
   ]
  },
  {
   "cell_type": "code",
   "execution_count": null,
   "id": "73558559-fa56-4593-a109-a95d2b0ff916",
   "metadata": {},
   "outputs": [],
   "source": [
    "# Fetch Tiles\n",
    "\n",
    "tiles = [t.strip('/') for t in list_remote(get_wdclient(conf_wd_opts), remote_path_retiled.as_posix())\n",
    "         if fnmatch.fnmatch(t, 'tile_*_*/')]"
   ]
  },
  {
   "cell_type": "markdown",
   "id": "e67e7b63-531c-4a62-a1d7-6f7fa30bbdf9",
   "metadata": {},
   "source": [
    "## Extract features from tiles"
   ]
  },
  {
   "cell_type": "code",
   "execution_count": null,
   "id": "f434bbe9-7f72-49dc-8c85-e6400bad8d59",
   "metadata": {},
   "outputs": [],
   "source": [
    "# Feature Extraction\n",
    "\n",
    "t = tiles[0]\n",
    "\n",
    "tile_mesh_size = 10.\n",
    "features = ['perc_95_normalized_height']\n",
    "\n",
    "grid_feature = {\n",
    "    'min_x': -113107.81,\n",
    "    'max_x': 398892.19,\n",
    "    'min_y': 214783.87,\n",
    "    'max_y': 726783.87,\n",
    "    'n_tiles_side': 512\n",
    "}\n",
    "\n",
    "feature_extraction_input = {\n",
    "    'setup_local_fs': {'tmp_folder': conf_local_tmp.as_posix()},\n",
    "    'pullremote': conf_remote_path_retiled.as_posix(),\n",
    "    'load': {'attributes': ['raw_classification']},\n",
    "    'normalize': 1,\n",
    "    'apply_filter': {\n",
    "        'filter_type': 'select_equal', \n",
    "        'attribute': 'raw_classification',\n",
    "        'value': [1, 6]#ground surface (2), water (9), buildings (6), artificial objects (26), vegetation (?), and unclassified (1)\n",
    "    },\n",
    "    'generate_targets': {\n",
    "        'tile_mesh_size' : tile_mesh_size,\n",
    "        'validate' : True,\n",
    "        **grid_feature\n",
    "    },\n",
    "    'extract_features': {\n",
    "        'feature_names': features,\n",
    "        'volume_type': 'cell',\n",
    "        'volume_size': tile_mesh_size\n",
    "    },\n",
    "    'export_targets': {\n",
    "        'attributes': features,\n",
    "        'multi_band_files': False\n",
    "    },\n",
    "    'pushremote': conf_remote_path_targets.as_posix(),\n",
    "#     'cleanlocalfs': {}\n",
    "}\n",
    "\n",
    "idx = int(t.split('_')[1:])\n",
    "processing = DataProcessing(t, tile_index=idx).config(feature_extraction_input).setup_webdav_client(conf_wd_opts)\n",
    "processing.run()"
   ]
  },
  {
   "cell_type": "code",
   "execution_count": null,
   "id": "0f13eaf2-136a-48ff-ad2c-f6771867cdeb",
   "metadata": {},
   "outputs": [],
   "source": [
    "# GeoTIFF Export\n",
    "\n",
    "feature = features[0]\n",
    "remote_path_geotiffs = conf_remote_path_ahn.parent / 'geotiffs'\n",
    "\n",
    "# setup input dictionary to configure the GeoTIFF export pipeline\n",
    "geotiff_export_input = {\n",
    "    'setup_local_fs': {'tmp_folder': conf_local_tmp.as_posix()},\n",
    "    'pullremote': conf_remote_path_targets.as_posix(),\n",
    "    'parse_point_cloud': {},\n",
    "    'data_split': {'xSub': 1, 'ySub': 1},\n",
    "    'create_subregion_geotiffs': {'output_handle': 'geotiff'},\n",
    "    'pushremote': remote_path_geotiffs.as_posix(),\n",
    "    'cleanlocalfs': {}   \n",
    "}\n",
    "\n",
    "writer = GeotiffWriter(input_dir=feature, bands=feature).config(geotiff_export_input).setup_webdav_client(conf_wd_opts)\n",
    "writer.run()"
   ]
  }
 ],
 "metadata": {
  "kernelspec": {
   "display_name": "Python 3",
   "language": "python",
   "name": "python3"
  },
  "language_info": {
   "codemirror_mode": {
    "name": "ipython",
    "version": 3
   },
   "file_extension": ".py",
   "mimetype": "text/x-python",
   "name": "python",
   "nbconvert_exporter": "python",
   "pygments_lexer": "ipython3",
   "version": "3.9.2"
  }
 },
 "nbformat": 4,
 "nbformat_minor": 5
}
