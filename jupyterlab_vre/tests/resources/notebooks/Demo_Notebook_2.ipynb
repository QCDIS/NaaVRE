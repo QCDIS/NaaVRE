{
 "cells": [
  {
   "cell_type": "code",
   "execution_count": 11,
   "id": "69cd2e73-e086-4470-83aa-4bc1c2c6b303",
   "metadata": {},
   "outputs": [],
   "source": [
    "import fnmatch\n",
    "import json\n",
    "import getpass\n",
    "import os\n",
    "import pathlib\n",
    "import datetime\n",
    "                    \n",
    "from dask.distributed import LocalCluster, SSHCluster \n",
    "from laserfarm import Retiler, DataProcessing, GeotiffWriter, MacroPipeline\n",
    "from laserfarm.remote_utils import get_wdclient, get_info_remote, list_remote"
   ]
  },
  {
   "cell_type": "markdown",
   "id": "7ce46b88-7913-4df3-89cb-285ac6c38862",
   "metadata": {},
   "source": [
    "## Global Configuration"
   ]
  },
  {
   "cell_type": "code",
   "execution_count": 1,
   "id": "412ff5aa-ccec-49e7-96d2-601e33470440",
   "metadata": {
    "tags": []
   },
   "outputs": [],
   "source": [
    "# Configurations spiros\n",
    "\n",
    "import fnmatch\n",
    "import json\n",
    "import getpass\n",
    "import os\n",
    "import pathlib\n",
    "import datetime\n",
    "                    \n",
    "from dask.distributed import LocalCluster, SSHCluster \n",
    "from laserfarm import Retiler, DataProcessing, GeotiffWriter, MacroPipeline\n",
    "from laserfarm.remote_utils import get_wdclient, get_info_remote, list_remote\n",
    "\n",
    "conf_remote_path_root = pathlib.Path('/webdav')\n",
    "conf_remote_path_ahn = pathlib.Path('/webdav/ahn')\n",
    "conf_remote_path_retiled = pathlib.Path('/webdav/retiled/')\n",
    "conf_remote_path_targets = pathlib.Path('/webdav/targets')\n",
    "conf_local_tmp = pathlib.Path('/tmp')\n",
    "\n",
    "param_hostname = 'https://lifewatch.lab.uvalight.net:32443'\n",
    "param_login = 'ZDFmNDg0Nzk0ZTJi'\n",
    "param_password = 'NDBjMmMzODJkYTBh'\n",
    "\n",
    "\n",
    "conf_wd_opts = { 'webdav_hostname': param_hostname, 'webdav_login': param_login, 'webdav_password': param_password}"
   ]
  },
  {
   "cell_type": "code",
   "execution_count": null,
   "id": "765a5830-5020-4363-a8ca-bc0e7c41ee8e",
   "metadata": {},
   "outputs": [],
   "source": [
    "def send_annotation(start=None,end=None,message=None,tags=None):\n",
    "    if not tags:\n",
    "        tags = []\n",
    "    \n",
    "    tags.append(theNotebook)\n",
    "    \n",
    "    headers = {\n",
    "        'Accept':'application/json',\n",
    "        'Content-Type': 'application/json',\n",
    "    }\n",
    "    \n",
    "    data ={\n",
    "      \"dashboardId\":1,\n",
    "    #   \"panelId\":8,\n",
    "      \"time\":start,\n",
    "      \"timeEnd\":end,\n",
    "      \"created\": end,\n",
    "      \"tags\":tags,\n",
    "      \"text\": message\n",
    "    }\n",
    "    resp = requests.post(grafana_base_url+'/api/annotations',verify=False,auth=('admin', grafana_pwd),headers=headers,json=data)\n",
    "    \n",
    "    data ={\n",
    "      \"dashboardId\":2,\n",
    "    #   \"panelId\":8,\n",
    "      \"time\":start,\n",
    "      \"timeEnd\":end,\n",
    "      \"created\": end,\n",
    "      \"tags\":tags,\n",
    "      \"text\": message\n",
    "    }\n",
    "    resp = requests.post(grafana_base_url+'/api/annotations',verify=False,auth=('admin', grafana_pwd),headers=headers,json=data)"
   ]
  },
  {
   "cell_type": "markdown",
   "id": "69c05beb-5a07-4df5-82ce-e705c790c411",
   "metadata": {},
   "source": [
    "## Fetching Laz Files from remote WebDAV"
   ]
  },
  {
   "cell_type": "code",
   "execution_count": 6,
   "id": "4d567fa3-9d09-4940-99a5-bdf7fc5e476f",
   "metadata": {},
   "outputs": [],
   "source": [
    "# Fetch Laz Files spi\n",
    "import pathlib\n",
    "laz_files = [f for f in list_remote(get_wdclient(conf_wd_opts), conf_remote_path_ahn.as_posix())\n",
    "             if f.lower().endswith('.laz')]"
   ]
  },
  {
   "cell_type": "markdown",
   "id": "80aef522-e847-47ea-84f6-d3df6b4a4b00",
   "metadata": {},
   "source": [
    "## Retiling of big files into smaller tiles"
   ]
  },
  {
   "cell_type": "code",
   "execution_count": 7,
   "id": "4df65dbb-ced5-4cb5-89f6-830dbca1fc6a",
   "metadata": {},
   "outputs": [
    {
     "name": "stderr",
     "output_type": "stream",
     "text": [
      "2022-01-31 11:05:12,133 -           laserfarm.pipeline_remote_data -       INFO - Input dir set to /tmp/pipeline_input\n",
      "2022-01-31 11:05:12,135 -           laserfarm.pipeline_remote_data -       INFO - Output dir set to /tmp/pipeline_output\n",
      "2022-01-31 11:05:12,137 -           laserfarm.pipeline_remote_data -       INFO - Pulling from WebDAV /webdav/ahn/C_18HZ2.LAZ ...\n",
      "2022-01-31 11:05:13,265 -           laserfarm.pipeline_remote_data -       INFO - ... pulling completed.\n",
      "2022-01-31 11:05:13,267 -                        laserfarm.retiler -       INFO - Setting up the target grid\n",
      "2022-01-31 11:05:13,270 -                        laserfarm.retiler -       INFO - Splitting file /tmp/pipeline_input/C_18HZ2.LAZ with PDAL ...\n",
      "2022-01-31 11:05:14,418 -                        laserfarm.retiler -       INFO - ... splitting completed.\n",
      "2022-01-31 11:05:14,421 -                        laserfarm.retiler -       INFO - Redistributing files to tiles ...\n",
      "2022-01-31 11:05:14,424 -                        laserfarm.retiler -       INFO - ... file C_18HZ2_1.LAZ to tile_213_285\n",
      "2022-01-31 11:05:14,427 -                        laserfarm.retiler -       INFO - ... file C_18HZ2_2.LAZ to tile_212_285\n",
      "2022-01-31 11:05:14,428 -                        laserfarm.retiler -       INFO - ... redistributing completed.\n",
      "2022-01-31 11:05:14,429 -                        laserfarm.retiler -       INFO - Validating split ...\n",
      "2022-01-31 11:05:14,431 -                        laserfarm.retiler -       INFO - ... 257128 points in parent file\n",
      "2022-01-31 11:05:14,432 -                        laserfarm.retiler -       INFO - ... 231714 points in C_18HZ2_1.LAZ\n",
      "2022-01-31 11:05:14,434 -                        laserfarm.retiler -       INFO - ... 25414 points in C_18HZ2_2.LAZ\n",
      "2022-01-31 11:05:14,435 -                        laserfarm.retiler -       INFO - ... split validation completed.\n",
      "2022-01-31 11:05:14,436 -           laserfarm.pipeline_remote_data -       INFO - Pushing to WebDAV /webdav/retiled ...\n",
      "2022-01-31 11:05:17,941 -           laserfarm.pipeline_remote_data -       INFO - ... pushing completed.\n",
      "2022-01-31 11:05:17,943 -           laserfarm.pipeline_remote_data -       INFO - Removing input and output folders\n"
     ]
    }
   ],
   "source": [
    "# Retiling spi\n",
    "\n",
    "remote_path_retiled = conf_remote_path_retiled\n",
    "\n",
    "grid_retile = {\n",
    "    'min_x': -113107.81,\n",
    "    'max_x': 398892.19,\n",
    "    'min_y': 214783.87,\n",
    "    'max_y': 726783.87,\n",
    "    'n_tiles_side': 512\n",
    "}\n",
    "\n",
    "\n",
    "retiling_input = {\n",
    "    'setup_local_fs': {'tmp_folder': conf_local_tmp.as_posix()},\n",
    "    'pullremote': conf_remote_path_ahn.as_posix(),\n",
    "    'set_grid': grid_retile,\n",
    "    'split_and_redistribute': {},\n",
    "    'validate': {},\n",
    "    'pushremote': conf_remote_path_retiled.as_posix(),\n",
    "    'cleanlocalfs': {}\n",
    "}\n",
    "\n",
    "file = laz_files\n",
    "retiler = Retiler(file).config(retiling_input).setup_webdav_client(conf_wd_opts)\n",
    "retiler.run()"
   ]
  },
  {
   "cell_type": "markdown",
   "id": "aa7bc806-32b4-45f9-82bd-372c6b749798",
   "metadata": {},
   "source": [
    "## Fetching retilied files (tiles) from remote WebDAV"
   ]
  },
  {
   "cell_type": "code",
   "execution_count": 6,
   "id": "73558559-fa56-4593-a109-a95d2b0ff916",
   "metadata": {},
   "outputs": [],
   "source": [
    "# Fetch Tiles spi\n",
    "\n",
    "tiles = [t.strip('/') for t in list_remote(get_wdclient(conf_wd_opts), remote_path_retiled.as_posix())\n",
    "         if fnmatch.fnmatch(t, 'tile_*_*/')]"
   ]
  },
  {
   "cell_type": "markdown",
   "id": "e67e7b63-531c-4a62-a1d7-6f7fa30bbdf9",
   "metadata": {},
   "source": [
    "## Extract features from tiles"
   ]
  },
  {
   "cell_type": "code",
   "execution_count": 11,
   "id": "f434bbe9-7f72-49dc-8c85-e6400bad8d59",
   "metadata": {},
   "outputs": [
    {
     "name": "stderr",
     "output_type": "stream",
     "text": [
      "2022-01-10 11:39:25,502 -           laserfarm.pipeline_remote_data -       INFO - Input dir set to /tmp/pipeline_input\n",
      "2022-01-10 11:39:25,503 -           laserfarm.pipeline_remote_data -       INFO - Output dir set to /tmp/pipeline_output\n",
      "2022-01-10 11:39:25,505 -           laserfarm.pipeline_remote_data -       INFO - Pulling from WebDAV /webdav/retiled/tile_278_391 ...\n",
      "2022-01-10 11:39:28,154 -           laserfarm.pipeline_remote_data -       INFO - ... pulling completed.\n",
      "2022-01-10 11:39:28,159 -                laserfarm.data_processing -       INFO - Loading point cloud data ...\n",
      "2022-01-10 11:39:28,161 -                laserfarm.data_processing -       INFO - ... loading /tmp/pipeline_input/tile_278_391/C_01GN2_1.LAZ\n",
      "2022-01-10 11:39:28,175 -                          pylas.lasreader -      ERROR - lazrs failed to decompress points: lazrs is not installed\n",
      "2022-01-10 11:39:38,522 -                laserfarm.data_processing -       INFO - ... loading completed.\n",
      "2022-01-10 11:39:38,523 -                laserfarm.data_processing -       INFO - Normalizing point-cloud heights ...\n",
      "2022-01-10 11:39:40,740 -                                     root -       INFO - Cylinder size in Bytes: 3056136558.191318\n",
      "2022-01-10 11:39:40,741 -                                     root -       INFO - Memory size in Bytes: 16819240960\n",
      "2022-01-10 11:39:40,742 -                                     root -       INFO - Start tree creation\n",
      "2022-01-10 11:39:41,562 -                                     root -       INFO - Done with env tree creation\n",
      "2022-01-10 11:39:41,745 -                                     root -       INFO - Done with target tree creation\n",
      "2022-01-10 11:40:25,125 -                laserfarm.data_processing -       INFO - ... normalization completed.\n",
      "2022-01-10 11:40:25,128 -                laserfarm.data_processing -       INFO - Filtering point-cloud data\n",
      "2022-01-10 11:40:25,138 -                laserfarm.data_processing -       INFO - Setting up the target grid\n",
      "2022-01-10 11:40:25,139 -                laserfarm.data_processing -       INFO - Checking whether points belong to cell (278,391)\n",
      "2022-01-10 11:40:25,140 -                laserfarm.data_processing -       INFO - Generating target point mesh with 10.0m spacing \n",
      "2022-01-10 11:40:25,145 -                laserfarm.data_processing -       INFO - Building volume of type cell\n",
      "2022-01-10 11:40:25,146 -                laserfarm.data_processing -       INFO - Constructing neighborhoods\n",
      "2022-01-10 11:40:25,147 -                laserfarm.data_processing -       INFO - Starting feature extraction ...\n",
      "2022-01-10 11:40:25,216 -                                     root -       INFO - Cylinder size in Bytes: 6408849013.323179\n",
      "2022-01-10 11:40:25,217 -                                     root -       INFO - Memory size in Bytes: 16819240960\n",
      "2022-01-10 11:40:25,218 -                                     root -       INFO - Start tree creation\n",
      "2022-01-10 11:40:25,219 -                                     root -       INFO - Done with env tree creation\n",
      "2022-01-10 11:40:25,221 -                                     root -       INFO - Done with target tree creation\n",
      "2022-01-10 11:40:25,234 -                                     root -       INFO - Extracting feature(s) \"['perc_95_normalized_height']\"\n",
      "2022-01-10 11:40:25,318 -                                     root -       INFO - Extracting feature(s) \"['perc_95_normalized_height']\" took 0.08 seconds\n",
      "2022-01-10 11:40:25,321 -                laserfarm.data_processing -       INFO - ... feature extraction completed.\n",
      "2022-01-10 11:40:25,323 -                laserfarm.data_processing -       INFO - Exporting target point-cloud ...\n"
     ]
    },
    {
     "ename": "FileExistsError",
     "evalue": "Path /tmp/pipeline_output/perc_95_normalized_height/tile_278_391.ply already exists!",
     "output_type": "error",
     "traceback": [
      "\u001b[0;31m---------------------------------------------------------------------------\u001b[0m",
      "\u001b[0;31mFileExistsError\u001b[0m                           Traceback (most recent call last)",
      "\u001b[0;32m/tmp/ipykernel_34/3941061381.py\u001b[0m in \u001b[0;36m<module>\u001b[0;34m\u001b[0m\n\u001b[1;32m     43\u001b[0m \u001b[0midx\u001b[0m \u001b[0;34m=\u001b[0m \u001b[0;34m(\u001b[0m\u001b[0mt\u001b[0m\u001b[0;34m.\u001b[0m\u001b[0msplit\u001b[0m\u001b[0;34m(\u001b[0m\u001b[0;34m'_'\u001b[0m\u001b[0;34m)\u001b[0m\u001b[0;34m[\u001b[0m\u001b[0;36m1\u001b[0m\u001b[0;34m:\u001b[0m\u001b[0;34m]\u001b[0m\u001b[0;34m)\u001b[0m\u001b[0;34m\u001b[0m\u001b[0;34m\u001b[0m\u001b[0m\n\u001b[1;32m     44\u001b[0m \u001b[0mprocessing\u001b[0m \u001b[0;34m=\u001b[0m \u001b[0mDataProcessing\u001b[0m\u001b[0;34m(\u001b[0m\u001b[0mt\u001b[0m\u001b[0;34m,\u001b[0m \u001b[0mtile_index\u001b[0m\u001b[0;34m=\u001b[0m\u001b[0midx\u001b[0m\u001b[0;34m)\u001b[0m\u001b[0;34m.\u001b[0m\u001b[0mconfig\u001b[0m\u001b[0;34m(\u001b[0m\u001b[0mfeature_extraction_input\u001b[0m\u001b[0;34m)\u001b[0m\u001b[0;34m.\u001b[0m\u001b[0msetup_webdav_client\u001b[0m\u001b[0;34m(\u001b[0m\u001b[0mconf_wd_opts\u001b[0m\u001b[0;34m)\u001b[0m\u001b[0;34m\u001b[0m\u001b[0;34m\u001b[0m\u001b[0m\n\u001b[0;32m---> 45\u001b[0;31m \u001b[0mprocessing\u001b[0m\u001b[0;34m.\u001b[0m\u001b[0mrun\u001b[0m\u001b[0;34m(\u001b[0m\u001b[0;34m)\u001b[0m\u001b[0;34m\u001b[0m\u001b[0;34m\u001b[0m\u001b[0m\n\u001b[0m",
      "\u001b[0;32m/opt/conda/lib/python3.9/site-packages/laserfarm/pipeline_remote_data.py\u001b[0m in \u001b[0;36mrun\u001b[0;34m(self, pipeline)\u001b[0m\n\u001b[1;32m    111\u001b[0m                      \u001b[0;34m+\u001b[0m \u001b[0m_pipeline\u001b[0m\u001b[0;34m\u001b[0m\u001b[0;34m\u001b[0m\u001b[0m\n\u001b[1;32m    112\u001b[0m                      + ('pushremote', 'cleanlocalfs'))\n\u001b[0;32m--> 113\u001b[0;31m         \u001b[0msuper\u001b[0m\u001b[0;34m(\u001b[0m\u001b[0mPipelineRemoteData\u001b[0m\u001b[0;34m,\u001b[0m \u001b[0mself\u001b[0m\u001b[0;34m)\u001b[0m\u001b[0;34m.\u001b[0m\u001b[0mrun\u001b[0m\u001b[0;34m(\u001b[0m\u001b[0mpipeline\u001b[0m\u001b[0;34m=\u001b[0m\u001b[0m_pipeline\u001b[0m\u001b[0;34m)\u001b[0m\u001b[0;34m\u001b[0m\u001b[0;34m\u001b[0m\u001b[0m\n\u001b[0m\u001b[1;32m    114\u001b[0m \u001b[0;34m\u001b[0m\u001b[0m\n\u001b[1;32m    115\u001b[0m     \u001b[0;34m@\u001b[0m\u001b[0mproperty\u001b[0m\u001b[0;34m\u001b[0m\u001b[0;34m\u001b[0m\u001b[0m\n",
      "\u001b[0;32m/opt/conda/lib/python3.9/site-packages/laserfarm/pipeline.py\u001b[0m in \u001b[0;36mrun\u001b[0;34m(self, pipeline)\u001b[0m\n\u001b[1;32m    106\u001b[0m                 \u001b[0minput_task\u001b[0m \u001b[0;34m=\u001b[0m \u001b[0m_input\u001b[0m\u001b[0;34m.\u001b[0m\u001b[0mpop\u001b[0m\u001b[0;34m(\u001b[0m\u001b[0mtask_name\u001b[0m\u001b[0;34m)\u001b[0m\u001b[0;34m\u001b[0m\u001b[0;34m\u001b[0m\u001b[0m\n\u001b[1;32m    107\u001b[0m                 \u001b[0;32mif\u001b[0m \u001b[0misinstance\u001b[0m\u001b[0;34m(\u001b[0m\u001b[0minput_task\u001b[0m\u001b[0;34m,\u001b[0m \u001b[0mdict\u001b[0m\u001b[0;34m)\u001b[0m\u001b[0;34m:\u001b[0m\u001b[0;34m\u001b[0m\u001b[0;34m\u001b[0m\u001b[0m\n\u001b[0;32m--> 108\u001b[0;31m                     \u001b[0mtask\u001b[0m\u001b[0;34m(\u001b[0m\u001b[0;34m**\u001b[0m\u001b[0minput_task\u001b[0m\u001b[0;34m)\u001b[0m\u001b[0;34m\u001b[0m\u001b[0;34m\u001b[0m\u001b[0m\n\u001b[0m\u001b[1;32m    109\u001b[0m                 elif (isinstance(input_task, list)\n\u001b[1;32m    110\u001b[0m                       or isinstance(input_task, tuple)):\n",
      "\u001b[0;32m/opt/conda/lib/python3.9/site-packages/laserfarm/data_processing.py\u001b[0m in \u001b[0;36mexport_targets\u001b[0;34m(self, filename, attributes, multi_band_files, **export_opts)\u001b[0m\n\u001b[1;32m    246\u001b[0m         \u001b[0mfile_handle\u001b[0m \u001b[0;34m=\u001b[0m \u001b[0;34m'tile_{}_{}'\u001b[0m\u001b[0;34m.\u001b[0m\u001b[0mformat\u001b[0m\u001b[0;34m(\u001b[0m\u001b[0;34m*\u001b[0m\u001b[0mself\u001b[0m\u001b[0;34m.\u001b[0m\u001b[0m_tile_index\u001b[0m\u001b[0;34m)\u001b[0m\u001b[0;34m\u001b[0m\u001b[0;34m\u001b[0m\u001b[0m\n\u001b[1;32m    247\u001b[0m         \u001b[0mlogger\u001b[0m\u001b[0;34m.\u001b[0m\u001b[0minfo\u001b[0m\u001b[0;34m(\u001b[0m\u001b[0;34m'Exporting target point-cloud ...'\u001b[0m\u001b[0;34m)\u001b[0m\u001b[0;34m\u001b[0m\u001b[0;34m\u001b[0m\u001b[0m\n\u001b[0;32m--> 248\u001b[0;31m         self._export(self.targets, expath, attributes, multi_band_files,\n\u001b[0m\u001b[1;32m    249\u001b[0m                      file_handle, **export_opts)\n\u001b[1;32m    250\u001b[0m         \u001b[0mlogger\u001b[0m\u001b[0;34m.\u001b[0m\u001b[0minfo\u001b[0m\u001b[0;34m(\u001b[0m\u001b[0;34m'... exporting completed.'\u001b[0m\u001b[0;34m)\u001b[0m\u001b[0;34m\u001b[0m\u001b[0;34m\u001b[0m\u001b[0m\n",
      "\u001b[0;32m/opt/conda/lib/python3.9/site-packages/laserfarm/data_processing.py\u001b[0m in \u001b[0;36m_export\u001b[0;34m(point_cloud, path, attributes, multi_band_files, file_handle, **export_opts)\u001b[0m\n\u001b[1;32m    272\u001b[0m         features = [f for f in point_cloud[laserchicken.keys.point].keys()\n\u001b[1;32m    273\u001b[0m                     if f not in 'xyz'] if attributes == 'all' else attributes\n\u001b[0;32m--> 274\u001b[0;31m         for file, feature_set in _get_output_file_dict(path,\n\u001b[0m\u001b[1;32m    275\u001b[0m                                                        \u001b[0mfile_handle\u001b[0m\u001b[0;34m,\u001b[0m\u001b[0;34m\u001b[0m\u001b[0;34m\u001b[0m\u001b[0m\n\u001b[1;32m    276\u001b[0m                                                        \u001b[0mfeatures\u001b[0m\u001b[0;34m,\u001b[0m\u001b[0;34m\u001b[0m\u001b[0;34m\u001b[0m\u001b[0m\n",
      "\u001b[0;32m/opt/conda/lib/python3.9/site-packages/laserfarm/data_processing.py\u001b[0m in \u001b[0;36m_get_output_file_dict\u001b[0;34m(path, file_handle, features, multi_band_files, format, overwrite, **kwargs)\u001b[0m\n\u001b[1;32m    377\u001b[0m     \u001b[0;32mif\u001b[0m \u001b[0;32mnot\u001b[0m \u001b[0moverwrite\u001b[0m\u001b[0;34m:\u001b[0m\u001b[0;34m\u001b[0m\u001b[0;34m\u001b[0m\u001b[0m\n\u001b[1;32m    378\u001b[0m         \u001b[0;32mfor\u001b[0m \u001b[0mfile\u001b[0m \u001b[0;32min\u001b[0m \u001b[0mfiles\u001b[0m\u001b[0;34m.\u001b[0m\u001b[0mkeys\u001b[0m\u001b[0;34m(\u001b[0m\u001b[0;34m)\u001b[0m\u001b[0;34m:\u001b[0m\u001b[0;34m\u001b[0m\u001b[0;34m\u001b[0m\u001b[0m\n\u001b[0;32m--> 379\u001b[0;31m             \u001b[0mcheck_file_exists\u001b[0m\u001b[0;34m(\u001b[0m\u001b[0mfile\u001b[0m\u001b[0;34m,\u001b[0m \u001b[0mshould_exist\u001b[0m\u001b[0;34m=\u001b[0m\u001b[0;32mFalse\u001b[0m\u001b[0;34m)\u001b[0m\u001b[0;34m\u001b[0m\u001b[0;34m\u001b[0m\u001b[0m\n\u001b[0m\u001b[1;32m    380\u001b[0m     \u001b[0;32mreturn\u001b[0m \u001b[0mfiles\u001b[0m\u001b[0;34m\u001b[0m\u001b[0;34m\u001b[0m\u001b[0m\n\u001b[1;32m    381\u001b[0m \u001b[0;34m\u001b[0m\u001b[0m\n",
      "\u001b[0;32m/opt/conda/lib/python3.9/site-packages/laserfarm/utils.py\u001b[0m in \u001b[0;36mcheck_file_exists\u001b[0;34m(path, should_exist)\u001b[0m\n\u001b[1;32m     17\u001b[0m \u001b[0;32mdef\u001b[0m \u001b[0mcheck_file_exists\u001b[0m\u001b[0;34m(\u001b[0m\u001b[0mpath\u001b[0m\u001b[0;34m,\u001b[0m \u001b[0mshould_exist\u001b[0m\u001b[0;34m)\u001b[0m\u001b[0;34m:\u001b[0m\u001b[0;34m\u001b[0m\u001b[0;34m\u001b[0m\u001b[0m\n\u001b[1;32m     18\u001b[0m     \u001b[0mp\u001b[0m \u001b[0;34m=\u001b[0m \u001b[0m_string_to_path\u001b[0m\u001b[0;34m(\u001b[0m\u001b[0mpath\u001b[0m\u001b[0;34m)\u001b[0m\u001b[0;34m\u001b[0m\u001b[0;34m\u001b[0m\u001b[0m\n\u001b[0;32m---> 19\u001b[0;31m     \u001b[0mcheck_path_exists\u001b[0m\u001b[0;34m(\u001b[0m\u001b[0mp\u001b[0m\u001b[0;34m,\u001b[0m \u001b[0mshould_exist\u001b[0m\u001b[0;34m)\u001b[0m\u001b[0;34m\u001b[0m\u001b[0;34m\u001b[0m\u001b[0m\n\u001b[0m\u001b[1;32m     20\u001b[0m     \u001b[0;32mif\u001b[0m \u001b[0mshould_exist\u001b[0m \u001b[0;32mand\u001b[0m \u001b[0;32mnot\u001b[0m \u001b[0mp\u001b[0m\u001b[0;34m.\u001b[0m\u001b[0mis_file\u001b[0m\u001b[0;34m(\u001b[0m\u001b[0;34m)\u001b[0m\u001b[0;34m:\u001b[0m\u001b[0;34m\u001b[0m\u001b[0;34m\u001b[0m\u001b[0m\n\u001b[1;32m     21\u001b[0m         \u001b[0;32mraise\u001b[0m \u001b[0mIOError\u001b[0m\u001b[0;34m(\u001b[0m\u001b[0;34m'Path {} is not a file!'\u001b[0m\u001b[0;34m.\u001b[0m\u001b[0mformat\u001b[0m\u001b[0;34m(\u001b[0m\u001b[0mstr\u001b[0m\u001b[0;34m(\u001b[0m\u001b[0mp\u001b[0m\u001b[0;34m)\u001b[0m\u001b[0;34m)\u001b[0m\u001b[0;34m)\u001b[0m\u001b[0;34m\u001b[0m\u001b[0;34m\u001b[0m\u001b[0m\n",
      "\u001b[0;32m/opt/conda/lib/python3.9/site-packages/laserfarm/utils.py\u001b[0m in \u001b[0;36mcheck_path_exists\u001b[0;34m(path, should_exist)\u001b[0m\n\u001b[1;32m     10\u001b[0m     \u001b[0mp\u001b[0m \u001b[0;34m=\u001b[0m \u001b[0m_string_to_path\u001b[0m\u001b[0;34m(\u001b[0m\u001b[0mpath\u001b[0m\u001b[0;34m)\u001b[0m\u001b[0;34m\u001b[0m\u001b[0;34m\u001b[0m\u001b[0m\n\u001b[1;32m     11\u001b[0m     \u001b[0;32mif\u001b[0m \u001b[0mp\u001b[0m\u001b[0;34m.\u001b[0m\u001b[0mexists\u001b[0m\u001b[0;34m(\u001b[0m\u001b[0;34m)\u001b[0m \u001b[0;32mand\u001b[0m \u001b[0;32mnot\u001b[0m \u001b[0mshould_exist\u001b[0m\u001b[0;34m:\u001b[0m\u001b[0;34m\u001b[0m\u001b[0;34m\u001b[0m\u001b[0m\n\u001b[0;32m---> 12\u001b[0;31m         \u001b[0;32mraise\u001b[0m \u001b[0mFileExistsError\u001b[0m\u001b[0;34m(\u001b[0m\u001b[0;34m'Path {} already exists!'\u001b[0m\u001b[0;34m.\u001b[0m\u001b[0mformat\u001b[0m\u001b[0;34m(\u001b[0m\u001b[0mstr\u001b[0m\u001b[0;34m(\u001b[0m\u001b[0mp\u001b[0m\u001b[0;34m)\u001b[0m\u001b[0;34m)\u001b[0m\u001b[0;34m)\u001b[0m\u001b[0;34m\u001b[0m\u001b[0;34m\u001b[0m\u001b[0m\n\u001b[0m\u001b[1;32m     13\u001b[0m     \u001b[0;32melif\u001b[0m \u001b[0;32mnot\u001b[0m \u001b[0mp\u001b[0m\u001b[0;34m.\u001b[0m\u001b[0mexists\u001b[0m\u001b[0;34m(\u001b[0m\u001b[0;34m)\u001b[0m \u001b[0;32mand\u001b[0m \u001b[0mshould_exist\u001b[0m\u001b[0;34m:\u001b[0m\u001b[0;34m\u001b[0m\u001b[0;34m\u001b[0m\u001b[0m\n\u001b[1;32m     14\u001b[0m         \u001b[0;32mraise\u001b[0m \u001b[0mFileNotFoundError\u001b[0m\u001b[0;34m(\u001b[0m\u001b[0;34m'Path {} does not exists!'\u001b[0m\u001b[0;34m.\u001b[0m\u001b[0mformat\u001b[0m\u001b[0;34m(\u001b[0m\u001b[0mstr\u001b[0m\u001b[0;34m(\u001b[0m\u001b[0mp\u001b[0m\u001b[0;34m)\u001b[0m\u001b[0;34m)\u001b[0m\u001b[0;34m)\u001b[0m\u001b[0;34m\u001b[0m\u001b[0;34m\u001b[0m\u001b[0m\n",
      "\u001b[0;31mFileExistsError\u001b[0m: Path /tmp/pipeline_output/perc_95_normalized_height/tile_278_391.ply already exists!"
     ]
    },
    {
     "name": "stderr",
     "output_type": "stream",
     "text": [
      "2022-01-10 11:51:44,967 -                                     root -       INFO - ['C_18HZ2.LAZ', 'C_19HZ2.LAZ', 'C_01GN2.LAZ', 'C_50GZ2.LAZ']\n",
      "2022-01-10 11:51:52,511 -                                     root -       INFO - ['C_18HZ2.LAZ', 'C_19HZ2.LAZ', 'C_01GN2.LAZ', 'C_50GZ2.LAZ']\n",
      "2022-01-10 11:51:58,172 -                                     root -       INFO - ['C_18HZ2.LAZ', 'C_19HZ2.LAZ', 'C_01GN2.LAZ', 'C_50GZ2.LAZ']\n",
      "2022-01-10 11:52:24,048 -                                     root -       INFO - ['C_18HZ2.LAZ', 'C_19HZ2.LAZ', 'C_01GN2.LAZ', 'C_50GZ2.LAZ']\n"
     ]
    }
   ],
   "source": [
    "# Feature Extraction spi\n",
    "\n",
    "t = tiles[2]\n",
    "\n",
    "tile_mesh_size = 10.\n",
    "features = ['perc_95_normalized_height']\n",
    "\n",
    "grid_feature = {\n",
    "    'min_x': -113107.81,\n",
    "    'max_x': 398892.19,\n",
    "    'min_y': 214783.87,\n",
    "    'max_y': 726783.87,\n",
    "    'n_tiles_side': 512\n",
    "}\n",
    "\n",
    "feature_extraction_input = {\n",
    "    'setup_local_fs': {'tmp_folder': conf_local_tmp.as_posix()},\n",
    "    'pullremote': conf_remote_path_retiled.as_posix(),\n",
    "    'load': {'attributes': ['raw_classification']},\n",
    "    'normalize': 1,\n",
    "    'apply_filter': {\n",
    "        'filter_type': 'select_equal', \n",
    "        'attribute': 'raw_classification',\n",
    "        'value': [1, 6]#ground surface (2), water (9), buildings (6), artificial objects (26), vegetation (?), and unclassified (1)\n",
    "    },\n",
    "    'generate_targets': {\n",
    "        'tile_mesh_size' : tile_mesh_size,\n",
    "        'validate' : True,\n",
    "        **grid_feature\n",
    "    },\n",
    "    'extract_features': {\n",
    "        'feature_names': features,\n",
    "        'volume_type': 'cell',\n",
    "        'volume_size': tile_mesh_size\n",
    "    },\n",
    "    'export_targets': {\n",
    "        'attributes': features,\n",
    "        'multi_band_files': False\n",
    "    },\n",
    "    'pushremote': conf_remote_path_targets.as_posix(),\n",
    "#     'cleanlocalfs': {}\n",
    "}\n",
    "idx = (t.split('_')[1:])\n",
    "processing = DataProcessing(t, tile_index=idx).config(feature_extraction_input).setup_webdav_client(conf_wd_opts)\n",
    "processing.run()"
   ]
  },
  {
   "cell_type": "code",
   "execution_count": null,
   "id": "0f13eaf2-136a-48ff-ad2c-f6771867cdeb",
   "metadata": {},
   "outputs": [],
   "source": [
    "# GeoTIFF Export sp\n",
    "\n",
    "feature = features\n",
    "remote_path_geotiffs = conf_remote_path_ahn.parent / 'geotiffs'\n",
    "\n",
    "# setup input dictionary to configure the GeoTIFF export pipeline\n",
    "geotiff_export_input = {\n",
    "    'setup_local_fs': {'tmp_folder': conf_local_tmp.as_posix()},\n",
    "    'pullremote': conf_remote_path_targets.as_posix(),\n",
    "    'parse_point_cloud': {},\n",
    "    'data_split': {'xSub': 1, 'ySub': 1},\n",
    "    'create_subregion_geotiffs': {'output_handle': 'geotiff'},\n",
    "    'pushremote': remote_path_geotiffs.as_posix(),\n",
    "    'cleanlocalfs': {}   \n",
    "}\n",
    "\n",
    "writer = GeotiffWriter(input_dir=feature, bands=feature).config(geotiff_export_input).setup_webdav_client(conf_wd_opts)\n",
    "writer.run()"
   ]
  },
  {
   "cell_type": "code",
   "execution_count": null,
   "id": "d040f521-aadb-46d5-a9a9-df9af611df8e",
   "metadata": {},
   "outputs": [],
   "source": []
  }
 ],
 "metadata": {
  "kernelspec": {
   "display_name": "Python 3",
   "language": "python",
   "name": "python3"
  },
  "language_info": {
   "codemirror_mode": {
    "name": "ipython",
    "version": 3
   },
   "file_extension": ".py",
   "mimetype": "text/x-python",
   "name": "python",
   "nbconvert_exporter": "python",
   "pygments_lexer": "ipython3",
   "version": "3.9.10"
  }
 },
 "nbformat": 4,
 "nbformat_minor": 5
}
