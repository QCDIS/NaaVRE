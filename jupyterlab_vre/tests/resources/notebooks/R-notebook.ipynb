{
 "cells": [
  {
   "cell_type": "code",
   "execution_count": 1,
   "id": "59b2ee0b-958d-431f-a396-b4b34c77d540",
   "metadata": {
    "tags": []
   },
   "outputs": [],
   "source": [
    "# input\n",
    "a = 2 \n",
    "numbers <- c(a, 4, 6, 8, 10)"
   ]
  },
  {
   "cell_type": "code",
   "execution_count": 2,
   "id": "0a83d716-23c8-4eb2-b246-9a8f4cdf9ac2",
   "metadata": {},
   "outputs": [],
   "source": [
    "#csddfv\n",
    "average <- mean(numbers)"
   ]
  },
  {
   "cell_type": "code",
   "execution_count": 3,
   "id": "73a1f742-2a8e-4c38-a1c0-5ff8bb372579",
   "metadata": {
    "tags": []
   },
   "outputs": [
    {
     "name": "stdout",
     "output_type": "stream",
     "text": [
      "[1] 6\n"
     ]
    }
   ],
   "source": [
    "print(average)"
   ]
  },
  {
   "cell_type": "code",
   "execution_count": null,
   "id": "528b97bb-396a-4520-8be0-9aeaed7e4715",
   "metadata": {},
   "outputs": [],
   "source": []
  }
 ],
 "metadata": {
  "kernelspec": {
   "display_name": "R [conda env:jupyterlab] *",
   "language": "R",
   "name": "conda-env-jupyterlab-r"
  },
  "language_info": {
   "codemirror_mode": "r",
   "file_extension": ".r",
   "mimetype": "text/x-r-source",
   "name": "R",
   "pygments_lexer": "r",
   "version": "4.2.3"
  }
 },
 "nbformat": 4,
 "nbformat_minor": 5
}
